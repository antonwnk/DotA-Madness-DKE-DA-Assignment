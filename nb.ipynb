{
 "cells": [
  {
   "cell_type": "markdown",
   "metadata": {},
   "source": [
    "## Data Integration, EDA"
   ]
  },
  {
   "cell_type": "markdown",
   "metadata": {},
   "source": [
    "Some imports, settings"
   ]
  },
  {
   "cell_type": "code",
   "execution_count": 35,
   "metadata": {},
   "outputs": [],
   "source": [
    "import pandas as pd\n",
    "import numpy as np\n",
    "\n",
    "import matplotlib\n",
    "import matplotlib.pyplot as plt\n",
    "import seaborn as sns\n",
    "\n",
    "def set_options():\n",
    "    # matplotlib params\n",
    "    matplotlib.rc_params['figure.figsize'] = [12, 8]\n",
    "    # seaborn styles\n",
    "    sns.set_style()"
   ]
  },
  {
   "cell_type": "markdown",
   "metadata": {},
   "source": [
    "Load the main dataset"
   ]
  },
  {
   "cell_type": "code",
   "execution_count": 36,
   "metadata": {},
   "outputs": [],
   "source": [
    "df = pd.concat(\n",
    "    [pd.read_csv('./data/train_features.csv'),\n",
    "     pd.read_csv('./data/train_targets.csv')],\n",
    "    axis=1)\n",
    "df = df.loc[:,~df.columns.duplicated()]"
   ]
  },
  {
   "cell_type": "markdown",
   "metadata": {},
   "source": [
    "Optimize the memory a bit"
   ]
  },
  {
   "cell_type": "code",
   "execution_count": 37,
   "metadata": {},
   "outputs": [
    {
     "name": "stdout",
     "output_type": "stream",
     "text": [
      "Memory usage of dataframe is 75.41 MB\n",
      "Memory usage after optimization is: 15.97 MB\n",
      "Decreased by 78.8%\n"
     ]
    }
   ],
   "source": [
    "# memory usage reduction code from: https://www.kaggle.com/gemartin/load-data-reduce-memory-usage\n",
    "def reduce_mem_usage(df):\n",
    "    \"\"\" iterate through all the columns of a dataframe and modify the data type\n",
    "        to reduce memory usage.        \n",
    "    \"\"\"\n",
    "    start_mem = df.memory_usage().sum() / 1024**2\n",
    "    print('Memory usage of dataframe is {:.2f} MB'.format(start_mem))\n",
    "    \n",
    "    for col in df.columns:\n",
    "        col_type = df[col].dtypes\n",
    "        \n",
    "        if col_type != object:\n",
    "            c_min = df[col].min()\n",
    "            c_max = df[col].max()\n",
    "            if str(col_type)[:3] == 'int':\n",
    "                if c_min > np.iinfo(np.int8).min and c_max < np.iinfo(np.int8).max:\n",
    "                    df[col] = df[col].astype(np.int8)\n",
    "                elif c_min > np.iinfo(np.int16).min and c_max < np.iinfo(np.int16).max:\n",
    "                    df[col] = df[col].astype(np.int16)\n",
    "                elif c_min > np.iinfo(np.int32).min and c_max < np.iinfo(np.int32).max:\n",
    "                    df[col] = df[col].astype(np.int32)\n",
    "                elif c_min > np.iinfo(np.int64).min and c_max < np.iinfo(np.int64).max:\n",
    "                    df[col] = df[col].astype(np.int64)  \n",
    "            else:\n",
    "                if c_min > np.finfo(np.float16).min and c_max < np.finfo(np.float16).max:\n",
    "                    df[col] = df[col].astype(np.float16)\n",
    "                elif c_min > np.finfo(np.float32).min and c_max < np.finfo(np.float32).max:\n",
    "                    df[col] = df[col].astype(np.float32)\n",
    "                else:\n",
    "                    df[col] = df[col].astype(np.float64)\n",
    "        else:\n",
    "            df[col] = df[col].astype('category')\n",
    "\n",
    "    end_mem = df.memory_usage().sum() / 1024**2\n",
    "    print('Memory usage after optimization is: {:.2f} MB'.format(end_mem))\n",
    "    print('Decreased by {:.1f}%'.format(100 * (start_mem - end_mem) / start_mem))\n",
    "    \n",
    "    return df\n",
    "df = reduce_mem_usage(df)"
   ]
  },
  {
   "cell_type": "code",
   "execution_count": 53,
   "metadata": {},
   "outputs": [
    {
     "name": "stdout",
     "output_type": "stream",
     "text": [
      "<class 'pandas.core.frame.DataFrame'>\n",
      "RangeIndex: 39675 entries, 0 to 39674\n",
      "Columns: 250 entries, match_id_hash to next_roshan_team\n",
      "dtypes: category(2), float16(31), int16(67), int32(10), int8(140)\n",
      "memory usage: 16.0 MB\n"
     ]
    }
   ],
   "source": [
    "df.info()"
   ]
  },
  {
   "cell_type": "code",
   "execution_count": 4,
   "metadata": {},
   "outputs": [
    {
     "data": {
      "text/plain": [
       "match_id_hash                 39675\n",
       "game_time                      3417\n",
       "game_mode                         8\n",
       "lobby_type                        2\n",
       "objectives_len                   43\n",
       "chat_len                        158\n",
       "r1_hero_id                      115\n",
       "r1_kills                         33\n",
       "r1_deaths                        26\n",
       "r1_assists                       40\n",
       "r1_denies                        70\n",
       "r1_gold                       16407\n",
       "r1_lh                           504\n",
       "r1_xp                         17368\n",
       "r1_health                      2803\n",
       "r1_max_health                   716\n",
       "r1_max_mana                    1298\n",
       "r1_level                         25\n",
       "r1_x                             62\n",
       "r1_y                             59\n",
       "r1_stuns                       4597\n",
       "r1_creeps_stacked                49\n",
       "r1_camps_stacked                 14\n",
       "r1_rune_pickups                  41\n",
       "r1_firstblood_claimed             2\n",
       "r1_teamfight_participation      787\n",
       "r1_towers_killed                  9\n",
       "r1_roshans_killed                 4\n",
       "r1_obs_placed                    25\n",
       "r1_sen_placed                    43\n",
       "                              ...  \n",
       "d4_obs_placed                    26\n",
       "d4_sen_placed                    41\n",
       "d5_hero_id                      115\n",
       "d5_kills                         35\n",
       "d5_deaths                        24\n",
       "d5_assists                       42\n",
       "d5_denies                        71\n",
       "d5_gold                       16329\n",
       "d5_lh                           506\n",
       "d5_xp                         17234\n",
       "d5_health                      2802\n",
       "d5_max_health                   718\n",
       "d5_max_mana                    1303\n",
       "d5_level                         25\n",
       "d5_x                             60\n",
       "d5_y                             59\n",
       "d5_stuns                       4560\n",
       "d5_creeps_stacked                64\n",
       "d5_camps_stacked                 19\n",
       "d5_rune_pickups                  45\n",
       "d5_firstblood_claimed             2\n",
       "d5_teamfight_participation      847\n",
       "d5_towers_killed                 10\n",
       "d5_roshans_killed                 6\n",
       "d5_obs_placed                    26\n",
       "d5_sen_placed                    40\n",
       "radiant_win                       2\n",
       "duration                       3484\n",
       "time_remaining                 3450\n",
       "next_roshan_team                  2\n",
       "Length: 250, dtype: int64"
      ]
     },
     "execution_count": 4,
     "metadata": {},
     "output_type": "execute_result"
    }
   ],
   "source": [
    "df.nunique()"
   ]
  },
  {
   "cell_type": "code",
   "execution_count": 52,
   "metadata": {},
   "outputs": [
    {
     "data": {
      "text/plain": [
       "'The number of missing values is 14350. That is roughly 0.14% of the values'"
      ]
     },
     "execution_count": 52,
     "metadata": {},
     "output_type": "execute_result"
    }
   ],
   "source": [
    "'The number of missing values is %d. That is roughly %3.2f%% of the values' % (df.isnull().sum().sum(), \n",
    "                                                                               df.isnull().sum().sum() / np.prod(df.shape)*100)"
   ]
  },
  {
   "cell_type": "markdown",
   "metadata": {},
   "source": [
    "#### Let's dive in the extended dataset – the .jsonl file – and build a dataset of heroes."
   ]
  },
  {
   "cell_type": "markdown",
   "metadata": {},
   "source": [
    "Make a mapping for hero names to hero id – inside initial dataset"
   ]
  },
  {
   "cell_type": "code",
   "execution_count": 5,
   "metadata": {},
   "outputs": [
    {
     "data": {
      "application/vnd.jupyter.widget-view+json": {
       "model_id": "71ad743a5b54406e80676c1206762513",
       "version_major": 2,
       "version_minor": 0
      },
      "text/plain": [
       "HBox(children=(IntProgress(value=0, max=39675), HTML(value='')))"
      ]
     },
     "metadata": {},
     "output_type": "display_data"
    },
    {
     "name": "stdout",
     "output_type": "stream",
     "text": [
      "\n"
     ]
    }
   ],
   "source": [
    "from tqdm import tqdm_notebook\n",
    "from collections import OrderedDict\n",
    "import ujson\n",
    "\n",
    "# First take a look at how many unique hero ID's we can find\n",
    "unique_heroes = []\n",
    "for c in ['r','d']:\n",
    "    for i in range(1,6):\n",
    "        unique_heroes += df[f'{c}{i}_hero_id'].unique().tolist()\n",
    "hero_count = len(set(unique_heroes))\n",
    "\n",
    "# Loop through the large JSON until we retrieved 115 hero names!\n",
    "hero_to_id = {}\n",
    "id_to_hero = {}\n",
    "retrieved = 0\n",
    "done = False\n",
    "with open('data/train_matches.jsonl') as raw:\n",
    "    for game in tqdm_notebook(raw, total=df.shape[0]):\n",
    "        game = ujson.loads(game)\n",
    "        for player in game['players']:\n",
    "            hero_id = player['hero_id']\n",
    "            hero_name = player['hero_name'][14:].replace('_',' ')\n",
    "            if not hero_id in id_to_hero:\n",
    "                retrieved += 1\n",
    "                id_to_hero[hero_id] = hero_name\n",
    "                hero_to_id[hero_name] = hero_id\n",
    "            if retrieved == hero_count:\n",
    "                done = True\n",
    "                break\n",
    "        if done:\n",
    "            break\n",
    "            \n",
    "# Sort the hero mappings\n",
    "hero_to_id = OrderedDict((key, hero_to_id[key]) for key in sorted(hero_to_id))\n",
    "id_to_hero = OrderedDict((key, id_to_hero[key]) for key in sorted(id_to_hero))\n",
    "\n",
    "# Correct the typos\n",
    "hero_to_id['zeus'] = hero_to_id.get('zuus', 'zeus')\n",
    "if hero_to_id.get('zuus'): del hero_to_id['zuus']\n",
    "\n",
    "zuus_key = [hero_id for hero_id in id_to_hero.keys() \n",
    "                    if id_to_hero[hero_id] == 'zuus']\n",
    "if zuus_key: id_to_hero[zuus_key[0]] = 'zeus'"
   ]
  },
  {
   "cell_type": "markdown",
   "metadata": {},
   "source": [
    "Create the hero dataset."
   ]
  },
  {
   "cell_type": "code",
   "execution_count": 23,
   "metadata": {},
   "outputs": [],
   "source": [
    "hero_df = pd.DataFrame(index=id_to_hero.keys())\n",
    "hero_df['name'] = id_to_hero.values()\n",
    "hero_df['name_stripped'] = hero_df['name'].str.replace(' ','')\n",
    "hero_df['stat'] = None\n",
    "hero_df['types'] = [[] for _ in range(hero_count)]"
   ]
  },
  {
   "cell_type": "markdown",
   "metadata": {},
   "source": [
    "The ```./data/hero_classes.json``` file was manually scrapped from https://dota2.gamepedia.com/Role on 26 March 2019. <br>\n",
    "Merge it with our hero data frame."
   ]
  },
  {
   "cell_type": "code",
   "execution_count": 32,
   "metadata": {},
   "outputs": [
    {
     "data": {
      "text/html": [
       "<div>\n",
       "<style scoped>\n",
       "    .dataframe tbody tr th:only-of-type {\n",
       "        vertical-align: middle;\n",
       "    }\n",
       "\n",
       "    .dataframe tbody tr th {\n",
       "        vertical-align: top;\n",
       "    }\n",
       "\n",
       "    .dataframe thead th {\n",
       "        text-align: right;\n",
       "    }\n",
       "</style>\n",
       "<table border=\"1\" class=\"dataframe\">\n",
       "  <thead>\n",
       "    <tr style=\"text-align: right;\">\n",
       "      <th></th>\n",
       "      <th>name</th>\n",
       "      <th>name_stripped</th>\n",
       "      <th>stat</th>\n",
       "      <th>types</th>\n",
       "    </tr>\n",
       "  </thead>\n",
       "  <tbody>\n",
       "    <tr>\n",
       "      <th>81</th>\n",
       "      <td>chaos knight</td>\n",
       "      <td>chaosknight</td>\n",
       "      <td>str</td>\n",
       "      <td>[Carry, Disabler, Durable, Pusher, Initiator]</td>\n",
       "    </tr>\n",
       "    <tr>\n",
       "      <th>86</th>\n",
       "      <td>rubick</td>\n",
       "      <td>rubick</td>\n",
       "      <td>int</td>\n",
       "      <td>[Support, Nuker, Disabler]</td>\n",
       "    </tr>\n",
       "    <tr>\n",
       "      <th>66</th>\n",
       "      <td>chen</td>\n",
       "      <td>chen</td>\n",
       "      <td>int</td>\n",
       "      <td>[Support, Jungler, Pusher]</td>\n",
       "    </tr>\n",
       "    <tr>\n",
       "      <th>44</th>\n",
       "      <td>phantom assassin</td>\n",
       "      <td>phantomassassin</td>\n",
       "      <td>agi</td>\n",
       "      <td>[Carry, Escape]</td>\n",
       "    </tr>\n",
       "    <tr>\n",
       "      <th>102</th>\n",
       "      <td>abaddon</td>\n",
       "      <td>abaddon</td>\n",
       "      <td>str</td>\n",
       "      <td>[Carry, Support, Durable]</td>\n",
       "    </tr>\n",
       "    <tr>\n",
       "      <th>54</th>\n",
       "      <td>life stealer</td>\n",
       "      <td>lifestealer</td>\n",
       "      <td>str</td>\n",
       "      <td>[Carry, Disabler, Jungler, Durable, Escape]</td>\n",
       "    </tr>\n",
       "    <tr>\n",
       "      <th>31</th>\n",
       "      <td>lich</td>\n",
       "      <td>lich</td>\n",
       "      <td>int</td>\n",
       "      <td>[Support, Nuker]</td>\n",
       "    </tr>\n",
       "    <tr>\n",
       "      <th>30</th>\n",
       "      <td>witch doctor</td>\n",
       "      <td>witchdoctor</td>\n",
       "      <td>int</td>\n",
       "      <td>[Support, Nuker, Disabler]</td>\n",
       "    </tr>\n",
       "    <tr>\n",
       "      <th>50</th>\n",
       "      <td>dazzle</td>\n",
       "      <td>dazzle</td>\n",
       "      <td>int</td>\n",
       "      <td>[Support, Nuker, Disabler]</td>\n",
       "    </tr>\n",
       "    <tr>\n",
       "      <th>1</th>\n",
       "      <td>antimage</td>\n",
       "      <td>antimage</td>\n",
       "      <td>agi</td>\n",
       "      <td>[Carry, Nuker, Escape]</td>\n",
       "    </tr>\n",
       "  </tbody>\n",
       "</table>\n",
       "</div>"
      ],
      "text/plain": [
       "                 name    name_stripped stat  \\\n",
       "81       chaos knight      chaosknight  str   \n",
       "86             rubick           rubick  int   \n",
       "66               chen             chen  int   \n",
       "44   phantom assassin  phantomassassin  agi   \n",
       "102           abaddon          abaddon  str   \n",
       "54       life stealer      lifestealer  str   \n",
       "31               lich             lich  int   \n",
       "30       witch doctor      witchdoctor  int   \n",
       "50             dazzle           dazzle  int   \n",
       "1            antimage         antimage  agi   \n",
       "\n",
       "                                             types  \n",
       "81   [Carry, Disabler, Durable, Pusher, Initiator]  \n",
       "86                      [Support, Nuker, Disabler]  \n",
       "66                      [Support, Jungler, Pusher]  \n",
       "44                                 [Carry, Escape]  \n",
       "102                      [Carry, Support, Durable]  \n",
       "54     [Carry, Disabler, Jungler, Durable, Escape]  \n",
       "31                                [Support, Nuker]  \n",
       "30                      [Support, Nuker, Disabler]  \n",
       "50                      [Support, Nuker, Disabler]  \n",
       "1                           [Carry, Nuker, Escape]  "
      ]
     },
     "execution_count": 32,
     "metadata": {},
     "output_type": "execute_result"
    }
   ],
   "source": [
    "# Read the hero classes file\n",
    "f = open('./data/hero_classes.json')\n",
    "hero_classes = ujson.load(f)\n",
    "f.close()\n",
    "\n",
    "# Define a function to match names between datasets.\n",
    "alt_names = {'nevermore': 'shadowfiend',\n",
    "             'windrunner': 'windranger',\n",
    "             'necrolyte': 'necrophos',\n",
    "             'skeletonking': 'wraithking',\n",
    "             'rattletrap': 'clockwerk',\n",
    "             'furion': 'naturesprophet',\n",
    "             'obsidiandestroyer': 'outworlddevourer',\n",
    "             'wisp': 'io',\n",
    "             'magnataur': 'magnus',\n",
    "             'shredder': 'timbersaw'}\n",
    "def is_match(name, out_name):\n",
    "    out_name = out_name.replace(' ','')\\\n",
    "                       .replace('-','')\\\n",
    "                       .replace(\"'\",'').lower()\n",
    "    direct_match = (name == out_name) or \\\n",
    "                    name.startswith(out_name) or \\\n",
    "                    name.endswith(out_name) or \\\n",
    "                    out_name.startswith(name) or \\\n",
    "                    out_name.endswith(name)\n",
    "    alt_name = alt_names.get(name)\n",
    "    \n",
    "    return direct_match or (alt_name and is_match(alt_name, \n",
    "                                                  out_name))\n",
    "\n",
    "# Get a list of all unique names of the 'external' dataset\n",
    "external_names = []\n",
    "for h_class, h_by_stat in hero_classes.items():\n",
    "    for h_stat, h_list in h_by_stat.items():\n",
    "        external_names += h_list\n",
    "external_names = set(external_names)\n",
    "\n",
    "# Create a mapping between hero names as found in our initial dataset and hero names from the secondary dataset \n",
    "external_name_map = {}\n",
    "for e_name in external_names:\n",
    "    for _, row in hero_df[['name', 'name_stripped']].iterrows():\n",
    "        if is_match(row['name_stripped'], e_name):\n",
    "            external_name_map[e_name] = row['name']\n",
    "            break\n",
    "\n",
    "# Check if we cover all the heroes in the 'internal' dataset\n",
    "assert len(external_name_map) == hero_count\n",
    "\n",
    "# Lastly, merge the stats in the 'external' dataset with the stats of the 'internal' dataset\n",
    "hero_df['types'] = [[] for _ in range(hero_count)] # reinitialize column when before filling it up, as we use append to fill it\n",
    "for h_class, h_by_stat in hero_classes.items():\n",
    "    for h_stat, h_list in h_by_stat.items():\n",
    "        for hero in h_list:\n",
    "            i_name = external_name_map.get(hero)\n",
    "            if i_name:\n",
    "                hero_df.loc[hero_to_id[i_name], 'types'].append(h_class)\n",
    "                hero_df.loc[hero_to_id[i_name], 'stat'] = h_stat\n",
    "                \n",
    "hero_df.sample(10) "
   ]
  },
  {
   "cell_type": "markdown",
   "metadata": {},
   "source": [
    "We can also derive a new feature, ```n_types``` as the number of roles the hero can take."
   ]
  },
  {
   "cell_type": "code",
   "execution_count": 33,
   "metadata": {},
   "outputs": [
    {
     "data": {
      "text/html": [
       "<div>\n",
       "<style scoped>\n",
       "    .dataframe tbody tr th:only-of-type {\n",
       "        vertical-align: middle;\n",
       "    }\n",
       "\n",
       "    .dataframe tbody tr th {\n",
       "        vertical-align: top;\n",
       "    }\n",
       "\n",
       "    .dataframe thead th {\n",
       "        text-align: right;\n",
       "    }\n",
       "</style>\n",
       "<table border=\"1\" class=\"dataframe\">\n",
       "  <thead>\n",
       "    <tr style=\"text-align: right;\">\n",
       "      <th></th>\n",
       "      <th>name</th>\n",
       "      <th>name_stripped</th>\n",
       "      <th>stat</th>\n",
       "      <th>types</th>\n",
       "      <th>n_types</th>\n",
       "    </tr>\n",
       "  </thead>\n",
       "  <tbody>\n",
       "    <tr>\n",
       "      <th>12</th>\n",
       "      <td>phantom lancer</td>\n",
       "      <td>phantomlancer</td>\n",
       "      <td>agi</td>\n",
       "      <td>[Carry, Nuker, Escape, Pusher]</td>\n",
       "      <td>4</td>\n",
       "    </tr>\n",
       "    <tr>\n",
       "      <th>21</th>\n",
       "      <td>windrunner</td>\n",
       "      <td>windrunner</td>\n",
       "      <td>int</td>\n",
       "      <td>[Carry, Support, Nuker, Disabler, Escape]</td>\n",
       "      <td>5</td>\n",
       "    </tr>\n",
       "    <tr>\n",
       "      <th>93</th>\n",
       "      <td>slark</td>\n",
       "      <td>slark</td>\n",
       "      <td>agi</td>\n",
       "      <td>[Carry, Nuker, Disabler, Escape]</td>\n",
       "      <td>4</td>\n",
       "    </tr>\n",
       "    <tr>\n",
       "      <th>114</th>\n",
       "      <td>monkey king</td>\n",
       "      <td>monkeyking</td>\n",
       "      <td>agi</td>\n",
       "      <td>[Carry, Disabler, Escape, Initiator]</td>\n",
       "      <td>4</td>\n",
       "    </tr>\n",
       "    <tr>\n",
       "      <th>79</th>\n",
       "      <td>shadow demon</td>\n",
       "      <td>shadowdemon</td>\n",
       "      <td>int</td>\n",
       "      <td>[Support, Nuker, Disabler, Initiator]</td>\n",
       "      <td>4</td>\n",
       "    </tr>\n",
       "    <tr>\n",
       "      <th>94</th>\n",
       "      <td>medusa</td>\n",
       "      <td>medusa</td>\n",
       "      <td>agi</td>\n",
       "      <td>[Carry, Disabler, Durable]</td>\n",
       "      <td>3</td>\n",
       "    </tr>\n",
       "    <tr>\n",
       "      <th>10</th>\n",
       "      <td>morphling</td>\n",
       "      <td>morphling</td>\n",
       "      <td>agi</td>\n",
       "      <td>[Carry, Nuker, Disabler, Durable, Escape]</td>\n",
       "      <td>5</td>\n",
       "    </tr>\n",
       "    <tr>\n",
       "      <th>66</th>\n",
       "      <td>chen</td>\n",
       "      <td>chen</td>\n",
       "      <td>int</td>\n",
       "      <td>[Support, Jungler, Pusher]</td>\n",
       "      <td>3</td>\n",
       "    </tr>\n",
       "    <tr>\n",
       "      <th>40</th>\n",
       "      <td>venomancer</td>\n",
       "      <td>venomancer</td>\n",
       "      <td>agi</td>\n",
       "      <td>[Support, Nuker, Disabler, Pusher, Initiator]</td>\n",
       "      <td>5</td>\n",
       "    </tr>\n",
       "    <tr>\n",
       "      <th>103</th>\n",
       "      <td>elder titan</td>\n",
       "      <td>eldertitan</td>\n",
       "      <td>str</td>\n",
       "      <td>[Nuker, Disabler, Durable, Initiator]</td>\n",
       "      <td>4</td>\n",
       "    </tr>\n",
       "  </tbody>\n",
       "</table>\n",
       "</div>"
      ],
      "text/plain": [
       "               name  name_stripped stat  \\\n",
       "12   phantom lancer  phantomlancer  agi   \n",
       "21       windrunner     windrunner  int   \n",
       "93            slark          slark  agi   \n",
       "114     monkey king     monkeyking  agi   \n",
       "79     shadow demon    shadowdemon  int   \n",
       "94           medusa         medusa  agi   \n",
       "10        morphling      morphling  agi   \n",
       "66             chen           chen  int   \n",
       "40       venomancer     venomancer  agi   \n",
       "103     elder titan     eldertitan  str   \n",
       "\n",
       "                                             types  n_types  \n",
       "12                  [Carry, Nuker, Escape, Pusher]        4  \n",
       "21       [Carry, Support, Nuker, Disabler, Escape]        5  \n",
       "93                [Carry, Nuker, Disabler, Escape]        4  \n",
       "114           [Carry, Disabler, Escape, Initiator]        4  \n",
       "79           [Support, Nuker, Disabler, Initiator]        4  \n",
       "94                      [Carry, Disabler, Durable]        3  \n",
       "10       [Carry, Nuker, Disabler, Durable, Escape]        5  \n",
       "66                      [Support, Jungler, Pusher]        3  \n",
       "40   [Support, Nuker, Disabler, Pusher, Initiator]        5  \n",
       "103          [Nuker, Disabler, Durable, Initiator]        4  "
      ]
     },
     "execution_count": 33,
     "metadata": {},
     "output_type": "execute_result"
    }
   ],
   "source": [
    "hero_df['n_types'] = hero_df['types'].map(set).map(len)\n",
    "hero_df.sample(10)"
   ]
  }
 ],
 "metadata": {
  "kernelspec": {
   "display_name": "Python 3",
   "language": "python",
   "name": "python3"
  },
  "language_info": {
   "codemirror_mode": {
    "name": "ipython",
    "version": 3
   },
   "file_extension": ".py",
   "mimetype": "text/x-python",
   "name": "python",
   "nbconvert_exporter": "python",
   "pygments_lexer": "ipython3",
   "version": "3.7.1"
  }
 },
 "nbformat": 4,
 "nbformat_minor": 2
}

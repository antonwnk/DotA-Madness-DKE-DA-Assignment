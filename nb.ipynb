{
 "cells": [
  {
   "cell_type": "markdown",
   "metadata": {},
   "source": [
    "### Data Integration, EDA"
   ]
  },
  {
   "cell_type": "code",
   "execution_count": 1,
   "metadata": {},
   "outputs": [],
   "source": [
    "import pandas as pd\n",
    "import numpy as np\n",
    "\n",
    "import matplotlib\n",
    "import matplotlib.pyplot as plt\n",
    "import seaborn as sns\n",
    "\n",
    "def set_options():\n",
    "    # matplotlib params\n",
    "    matplotlib.rc_params['figure.figsize'] = [12, 8]\n",
    "    # seaborn styles\n",
    "    sns.set_style()"
   ]
  },
  {
   "cell_type": "code",
   "execution_count": 2,
   "metadata": {},
   "outputs": [],
   "source": [
    "df = pd.concat(\n",
    "    [pd.read_csv('./data/train_features.csv'),\n",
    "     pd.read_csv('./data/train_targets.csv')],\n",
    "    axis=1)\n",
    "df = df.loc[:,~df.columns.duplicated()]"
   ]
  },
  {
   "cell_type": "code",
   "execution_count": 3,
   "metadata": {},
   "outputs": [
    {
     "name": "stdout",
     "output_type": "stream",
     "text": [
      "Memory usage of dataframe is 75.41 MB\n",
      "Memory usage after optimization is: 15.97 MB\n",
      "Decreased by 78.8%\n"
     ]
    }
   ],
   "source": [
    "# Use memory usage reducing code from: https://www.kaggle.com/gemartin/load-data-reduce-memory-usage\n",
    "def reduce_mem_usage(df):\n",
    "    \"\"\" iterate through all the columns of a dataframe and modify the data type\n",
    "        to reduce memory usage.        \n",
    "    \"\"\"\n",
    "    start_mem = df.memory_usage().sum() / 1024**2\n",
    "    print('Memory usage of dataframe is {:.2f} MB'.format(start_mem))\n",
    "    \n",
    "    for col in df.columns:\n",
    "        col_type = df[col].dtypes\n",
    "        \n",
    "        if col_type != object:\n",
    "            c_min = df[col].min()\n",
    "            c_max = df[col].max()\n",
    "            if str(col_type)[:3] == 'int':\n",
    "                if c_min > np.iinfo(np.int8).min and c_max < np.iinfo(np.int8).max:\n",
    "                    df[col] = df[col].astype(np.int8)\n",
    "                elif c_min > np.iinfo(np.int16).min and c_max < np.iinfo(np.int16).max:\n",
    "                    df[col] = df[col].astype(np.int16)\n",
    "                elif c_min > np.iinfo(np.int32).min and c_max < np.iinfo(np.int32).max:\n",
    "                    df[col] = df[col].astype(np.int32)\n",
    "                elif c_min > np.iinfo(np.int64).min and c_max < np.iinfo(np.int64).max:\n",
    "                    df[col] = df[col].astype(np.int64)  \n",
    "            else:\n",
    "                if c_min > np.finfo(np.float16).min and c_max < np.finfo(np.float16).max:\n",
    "                    df[col] = df[col].astype(np.float16)\n",
    "                elif c_min > np.finfo(np.float32).min and c_max < np.finfo(np.float32).max:\n",
    "                    df[col] = df[col].astype(np.float32)\n",
    "                else:\n",
    "                    df[col] = df[col].astype(np.float64)\n",
    "        else:\n",
    "            df[col] = df[col].astype('category')\n",
    "\n",
    "    end_mem = df.memory_usage().sum() / 1024**2\n",
    "    print('Memory usage after optimization is: {:.2f} MB'.format(end_mem))\n",
    "    print('Decreased by {:.1f}%'.format(100 * (start_mem - end_mem) / start_mem))\n",
    "    \n",
    "    return df\n",
    "df = reduce_mem_usage(df)"
   ]
  },
  {
   "cell_type": "code",
   "execution_count": 4,
   "metadata": {},
   "outputs": [
    {
     "data": {
      "text/plain": [
       "match_id_hash                 39675\n",
       "game_time                      3417\n",
       "game_mode                         8\n",
       "lobby_type                        2\n",
       "objectives_len                   43\n",
       "chat_len                        158\n",
       "r1_hero_id                      115\n",
       "r1_kills                         33\n",
       "r1_deaths                        26\n",
       "r1_assists                       40\n",
       "r1_denies                        70\n",
       "r1_gold                       16407\n",
       "r1_lh                           504\n",
       "r1_xp                         17368\n",
       "r1_health                      2803\n",
       "r1_max_health                   716\n",
       "r1_max_mana                    1298\n",
       "r1_level                         25\n",
       "r1_x                             62\n",
       "r1_y                             59\n",
       "r1_stuns                       4597\n",
       "r1_creeps_stacked                49\n",
       "r1_camps_stacked                 14\n",
       "r1_rune_pickups                  41\n",
       "r1_firstblood_claimed             2\n",
       "r1_teamfight_participation      787\n",
       "r1_towers_killed                  9\n",
       "r1_roshans_killed                 4\n",
       "r1_obs_placed                    25\n",
       "r1_sen_placed                    43\n",
       "                              ...  \n",
       "d4_obs_placed                    26\n",
       "d4_sen_placed                    41\n",
       "d5_hero_id                      115\n",
       "d5_kills                         35\n",
       "d5_deaths                        24\n",
       "d5_assists                       42\n",
       "d5_denies                        71\n",
       "d5_gold                       16329\n",
       "d5_lh                           506\n",
       "d5_xp                         17234\n",
       "d5_health                      2802\n",
       "d5_max_health                   718\n",
       "d5_max_mana                    1303\n",
       "d5_level                         25\n",
       "d5_x                             60\n",
       "d5_y                             59\n",
       "d5_stuns                       4560\n",
       "d5_creeps_stacked                64\n",
       "d5_camps_stacked                 19\n",
       "d5_rune_pickups                  45\n",
       "d5_firstblood_claimed             2\n",
       "d5_teamfight_participation      847\n",
       "d5_towers_killed                 10\n",
       "d5_roshans_killed                 6\n",
       "d5_obs_placed                    26\n",
       "d5_sen_placed                    40\n",
       "radiant_win                       2\n",
       "duration                       3484\n",
       "time_remaining                 3450\n",
       "next_roshan_team                  2\n",
       "Length: 250, dtype: int64"
      ]
     },
     "execution_count": 4,
     "metadata": {},
     "output_type": "execute_result"
    }
   ],
   "source": [
    "df.nunique()"
   ]
  },
  {
   "cell_type": "markdown",
   "metadata": {},
   "source": [
    "#### Let's dive in the extended dataset - the jsonl file."
   ]
  },
  {
   "cell_type": "markdown",
   "metadata": {},
   "source": [
    "##### Make a mapping for hero names"
   ]
  },
  {
   "cell_type": "code",
   "execution_count": 123,
   "metadata": {},
   "outputs": [
    {
     "data": {
      "application/vnd.jupyter.widget-view+json": {
       "model_id": "a0539550a95d4422ac67202d82246a6c",
       "version_major": 2,
       "version_minor": 0
      },
      "text/plain": [
       "HBox(children=(IntProgress(value=0, max=39675), HTML(value='')))"
      ]
     },
     "metadata": {},
     "output_type": "display_data"
    },
    {
     "data": {
      "text/plain": [
       "{11: 'nevermore',\n",
       " 78: 'brewmaster',\n",
       " 14: 'pudge',\n",
       " 59: 'huskar',\n",
       " 77: 'lycan',\n",
       " 12: 'lancer',\n",
       " 21: 'windrunner',\n",
       " 60: 'stalker',\n",
       " 84: 'magi',\n",
       " 34: 'tinker',\n",
       " 15: 'razor',\n",
       " 96: 'centaur',\n",
       " 27: 'shaman',\n",
       " 63: 'weaver',\n",
       " 89: 'siren',\n",
       " 58: 'enchantress',\n",
       " 1: 'antimage',\n",
       " 56: 'clinkz',\n",
       " 92: 'visage',\n",
       " 101: 'mage',\n",
       " 51: 'rattletrap',\n",
       " 44: 'assassin',\n",
       " 49: 'knight',\n",
       " 53: 'furion',\n",
       " 18: 'sven',\n",
       " 67: 'spectre',\n",
       " 47: 'viper',\n",
       " 40: 'venomancer',\n",
       " 17: 'spirit',\n",
       " 99: 'bristleback',\n",
       " 26: 'lion',\n",
       " 41: 'void',\n",
       " 98: 'shredder',\n",
       " 8: 'juggernaut',\n",
       " 69: 'bringer',\n",
       " 86: 'rubick',\n",
       " 42: 'king',\n",
       " 104: 'commander',\n",
       " 65: 'batrider',\n",
       " 23: 'kunkka',\n",
       " 22: 'zuus',\n",
       " 35: 'sniper',\n",
       " 72: 'gyrocopter',\n",
       " 57: 'omniknight',\n",
       " 10: 'morphling',\n",
       " 81: 'knight',\n",
       " 119: 'willow',\n",
       " 48: 'luna',\n",
       " 68: 'apparition',\n",
       " 102: 'abaddon',\n",
       " 71: 'breaker',\n",
       " 108: 'underlord',\n",
       " 90: 'light',\n",
       " 91: 'wisp',\n",
       " 114: 'king',\n",
       " 50: 'dazzle',\n",
       " 74: 'invoker',\n",
       " 93: 'slark',\n",
       " 75: 'silencer',\n",
       " 76: 'destroyer',\n",
       " 3: 'bane',\n",
       " 62: 'hunter',\n",
       " 30: 'doctor',\n",
       " 80: 'druid',\n",
       " 4: 'bloodseeker',\n",
       " 6: 'ranger',\n",
       " 28: 'slardar',\n",
       " 95: 'warlord',\n",
       " 61: 'broodmother',\n",
       " 2: 'axe',\n",
       " 103: 'titan',\n",
       " 94: 'medusa',\n",
       " 87: 'disruptor',\n",
       " 110: 'phoenix',\n",
       " 29: 'tidehunter',\n",
       " 25: 'lina',\n",
       " 105: 'techies',\n",
       " 9: 'mirana',\n",
       " 54: 'stealer',\n",
       " 32: 'riki',\n",
       " 111: 'oracle',\n",
       " 120: 'pangolier',\n",
       " 70: 'ursa',\n",
       " 19: 'tiny',\n",
       " 39: 'queenofpain',\n",
       " 73: 'alchemist',\n",
       " 112: 'wyvern',\n",
       " 83: 'treant',\n",
       " 13: 'puck',\n",
       " 79: 'demon',\n",
       " 31: 'lich',\n",
       " 36: 'necrolyte',\n",
       " 5: 'maiden',\n",
       " 100: 'tusk',\n",
       " 64: 'jakiro',\n",
       " 106: 'spirit',\n",
       " 16: 'king',\n",
       " 88: 'assassin',\n",
       " 109: 'terrorblade',\n",
       " 7: 'earthshaker',\n",
       " 20: 'vengefulspirit',\n",
       " 97: 'magnataur',\n",
       " 37: 'warlock',\n",
       " 45: 'pugna',\n",
       " 107: 'spirit',\n",
       " 113: 'warden',\n",
       " 82: 'meepo',\n",
       " 43: 'prophet',\n",
       " 46: 'assassin',\n",
       " 33: 'enigma',\n",
       " 85: 'undying',\n",
       " 52: 'leshrac',\n",
       " 55: 'seer',\n",
       " 38: 'beastmaster',\n",
       " 66: 'chen'}"
      ]
     },
     "execution_count": 123,
     "metadata": {},
     "output_type": "execute_result"
    }
   ],
   "source": [
    "from tqdm import tqdm_notebook\n",
    "import ujson\n",
    "\n",
    "# First take a look at how many unique hero ID's we can find\n",
    "unique_heroes = []\n",
    "for c in ['r','d']:\n",
    "    for i in range(1,6):\n",
    "        unique_heroes += df[f'{c}{i}_hero_id'].unique().tolist()\n",
    "hero_count = len(set(unique_heroes))\n",
    "\n",
    "# Loop through the large JSON until we retrieved 115 hero names!\n",
    "hero_mapping = {}\n",
    "retrieved = 0\n",
    "done = False\n",
    "with open('data/train_matches.jsonl') as raw:\n",
    "    for game in tqdm_notebook(raw, total=df.shape[0]):\n",
    "        game = ujson.loads(game)\n",
    "        for player in game['players']:\n",
    "            hero_id = player['hero_id']\n",
    "            if not hero_id in hero_mapping:\n",
    "                retrieved += 1\n",
    "                hero_mapping[hero_id] = player['hero_name'].split('_')[-1]\n",
    "            if retrieved == hero_count:\n",
    "                done = True\n",
    "                break\n",
    "        if done:\n",
    "            break\n",
    "hero_mapping      \n",
    "# game1 = game\n",
    "# # game1 = ujson.loads(next(open('data/train_matches.jsonl')))\n",
    "# print(game1.keys())\n"
   ]
  },
  {
   "cell_type": "code",
   "execution_count": 34,
   "metadata": {},
   "outputs": [
    {
     "data": {
      "text/plain": [
       "dict_keys(['player_slot', 'hero_id', 'hero_name', 'account_id_hash', 'ability_upgrades', 'obs_placed', 'sen_placed', 'creeps_stacked', 'camps_stacked', 'rune_pickups', 'firstblood_claimed', 'teamfight_participation', 'towers_killed', 'roshans_killed', 'observers_placed', 'stuns', 'max_hero_hit', 'times', 'gold_t', 'lh_t', 'dn_t', 'xp_t', 'obs_log', 'sen_log', 'obs_left_log', 'sen_left_log', 'purchase_log', 'kills_log', 'buyback_log', 'runes_log', 'obs', 'sen', 'actions', 'pings', 'purchase', 'gold_reasons', 'xp_reasons', 'killed', 'item_uses', 'ability_uses', 'hero_hits', 'damage', 'damage_taken', 'damage_inflictor', 'runes', 'killed_by', 'kill_streaks', 'multi_kills', 'life_state', 'healing', 'damage_inflictor_received', 'randomed', 'pred_vict', 'gold', 'lh', 'xp', 'x', 'y', 'hero_inventory', 'hero_stash', 'health', 'max_health', 'max_mana', 'level', 'kills', 'deaths', 'assists', 'denies', 'nearby_creep_death_count'])"
      ]
     },
     "execution_count": 34,
     "metadata": {},
     "output_type": "execute_result"
    }
   ],
   "source": [
    "game1['players'][0].keys()"
   ]
  },
  {
   "cell_type": "code",
   "execution_count": 78,
   "metadata": {},
   "outputs": [
    {
     "data": {
      "text/plain": [
       "22"
      ]
     },
     "execution_count": 78,
     "metadata": {},
     "output_type": "execute_result"
    }
   ],
   "source": [
    "game1['game_mode']"
   ]
  },
  {
   "cell_type": "code",
   "execution_count": null,
   "metadata": {},
   "outputs": [],
   "source": []
  }
 ],
 "metadata": {
  "kernelspec": {
   "display_name": "Python 3",
   "language": "python",
   "name": "python3"
  },
  "language_info": {
   "codemirror_mode": {
    "name": "ipython",
    "version": 3
   },
   "file_extension": ".py",
   "mimetype": "text/x-python",
   "name": "python",
   "nbconvert_exporter": "python",
   "pygments_lexer": "ipython3",
   "version": "3.7.1"
  }
 },
 "nbformat": 4,
 "nbformat_minor": 2
}
